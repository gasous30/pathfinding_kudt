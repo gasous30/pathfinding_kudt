{
 "cells": [
  {
   "cell_type": "code",
   "execution_count": 51,
   "metadata": {},
   "outputs": [
    {
     "name": "stdout",
     "output_type": "stream",
     "text": [
      "Found: DRRDDDDDDD\n",
      "# # # # # O # # # \n",
      "#         + + + # \n",
      "#             + # \n",
      "#             + # \n",
      "#             + # \n",
      "#             + # \n",
      "#             + # \n",
      "#             + # \n",
      "# # # # # # # + # \n"
     ]
    }
   ],
   "source": [
    "import queue\n",
    "\n",
    "\n",
    "def createMaze():\n",
    "    maze = []\n",
    "    maze.append([\"#\",\"#\", \"#\", \"#\", \"#\", \"O\",\"#\"])\n",
    "    maze.append([\"#\",\" \", \" \", \" \", \"#\", \" \",\"#\"])\n",
    "    maze.append([\"#\",\" \", \"#\", \" \", \"#\", \" \",\"#\"])\n",
    "    maze.append([\"#\",\" \", \"#\", \" \", \" \", \" \",\"#\"])\n",
    "    maze.append([\"#\",\" \", \"#\", \"#\", \"#\", \" \",\"#\"])\n",
    "    maze.append([\"#\",\" \", \" \", \" \", \"#\", \" \",\"#\"])\n",
    "    maze.append([\"#\",\"#\", \"#\", \"#\", \"#\", \"X\",\"#\"])\n",
    "\n",
    "    return maze\n",
    "\n",
    "def createMaze2():\n",
    "    maze = []\n",
    "    maze.append([\"#\",\"#\", \"#\", \"#\", \"#\", \"O\", \"#\", \"#\", \"#\"])\n",
    "    maze.append([\"#\",\" \", \" \", \" \", \" \", \" \", \" \", \" \", \"#\"])\n",
    "    maze.append([\"#\",\" \", \" \", \" \", \" \", \" \", \" \", \" \", \"#\"])\n",
    "    maze.append([\"#\",\" \", \" \", \" \", \" \", \" \", \" \", \" \", \"#\"])\n",
    "    maze.append([\"#\",\" \", \" \", \" \", \" \", \" \", \" \", \" \", \"#\"])\n",
    "    maze.append([\"#\",\" \", \" \", \" \", \" \", \" \", \" \", \" \", \"#\"])\n",
    "    maze.append([\"#\",\" \", \" \", \" \", \" \", \" \", \" \", \" \", \"#\"])\n",
    "    maze.append([\"#\",\" \", \" \", \" \", \" \", \" \", \" \", \" \", \"#\"])\n",
    "    maze.append([\"#\",\"#\", \"#\", \"#\", \"#\", \"#\", \"#\", \"X\", \"#\"])\n",
    "\n",
    "    return maze\n",
    "\n",
    "\n",
    "def printMaze(maze, path=\"\"):\n",
    "    for x, pos in enumerate(maze[0]):\n",
    "        if pos == \"O\":\n",
    "            start = x\n",
    "\n",
    "    i = start\n",
    "    j = 0\n",
    "    pos = set()\n",
    "    for move in path:\n",
    "        if move == \"L\":\n",
    "            i -= 1\n",
    "\n",
    "        elif move == \"R\":\n",
    "            i += 1\n",
    "\n",
    "        elif move == \"U\":\n",
    "            j -= 1\n",
    "\n",
    "        elif move == \"D\":\n",
    "            j += 1\n",
    "        pos.add((j, i))\n",
    "    \n",
    "    for j, row in enumerate(maze):\n",
    "        for i, col in enumerate(row):\n",
    "            if (j, i) in pos:\n",
    "                print(\"+ \", end=\"\")\n",
    "            else:\n",
    "                print(col + \" \", end=\"\")\n",
    "        print()\n",
    "        \n",
    "\n",
    "\n",
    "def valid(maze, moves):\n",
    "    for x, pos in enumerate(maze[0]):\n",
    "        if pos == \"O\":\n",
    "            start = x\n",
    "\n",
    "    i = start\n",
    "    j = 0\n",
    "    for move in moves:\n",
    "        if move == \"L\":\n",
    "            i -= 1\n",
    "\n",
    "        elif move == \"R\":\n",
    "            i += 1\n",
    "\n",
    "        elif move == \"U\":\n",
    "            j -= 1\n",
    "\n",
    "        elif move == \"D\":\n",
    "            j += 1\n",
    "\n",
    "        if not(0 <= i < len(maze[0]) and 0 <= j < len(maze)):\n",
    "            return False\n",
    "        elif (maze[j][i] == \"#\"):\n",
    "            return False\n",
    "\n",
    "    return True\n",
    "\n",
    "\n",
    "def findEnd(maze, moves):\n",
    "    for x, pos in enumerate(maze[0]):\n",
    "        if pos == \"O\":\n",
    "            start = x\n",
    "\n",
    "    i = start\n",
    "    j = 0\n",
    "    for move in moves:\n",
    "        if move == \"L\":\n",
    "            i -= 1\n",
    "\n",
    "        elif move == \"R\":\n",
    "            i += 1\n",
    "\n",
    "        elif move == \"U\":\n",
    "            j -= 1\n",
    "\n",
    "        elif move == \"D\":\n",
    "            j += 1\n",
    "\n",
    "    if maze[j][i] == \"X\":\n",
    "        print(\"Found: \" + moves)\n",
    "        printMaze(maze, moves)\n",
    "        return True\n",
    "\n",
    "    return False\n",
    "\n",
    "\n",
    "# MAIN ALGORITHM\n",
    "\n",
    "nums = queue.Queue()\n",
    "nums.put(\"\")\n",
    "add = \"\"\n",
    "maze  = createMaze2()\n",
    "\n",
    "while not findEnd(maze, add): \n",
    "    add = nums.get()\n",
    "    #print(add)\n",
    "    for j in [\"L\", \"R\", \"U\", \"D\"]:\n",
    "        put = add + j\n",
    "        if valid(maze, put):\n",
    "            nums.put(put)"
   ]
  },
  {
   "cell_type": "markdown",
   "metadata": {},
   "source": [
    "<hr>"
   ]
  },
  {
   "cell_type": "code",
   "execution_count": 58,
   "metadata": {},
   "outputs": [],
   "source": [
    "import numpy as np\n",
    "\n",
    "def createMaze(size, start_point, end_point):\n",
    "    maze = np.zeros((size,size))\n",
    "    maze[0] = np.ones(size)\n",
    "    maze[size-1] = np.ones(size)\n",
    "    maze[:,0] = np.ones(size)\n",
    "    maze[:,size-1] = np.ones(size)\n",
    "\n",
    "    maze[start_point[0]][start_point[1]] = 10\n",
    "    maze[end_point[0]][end_point[1]] = 100\n",
    "    return maze"
   ]
  },
  {
   "cell_type": "code",
   "execution_count": 59,
   "metadata": {},
   "outputs": [],
   "source": [
    "maze = createMaze(10, [1,1], [8,8])"
   ]
  },
  {
   "cell_type": "code",
   "execution_count": 60,
   "metadata": {},
   "outputs": [
    {
     "data": {
      "text/plain": [
       "array([[  1.,   1.,   1.,   1.,   1.,   1.,   1.,   1.,   1.,   1.],\n",
       "       [  1.,  10.,   0.,   0.,   0.,   0.,   0.,   0.,   0.,   1.],\n",
       "       [  1.,   0.,   0.,   0.,   0.,   0.,   0.,   0.,   0.,   1.],\n",
       "       [  1.,   0.,   0.,   0.,   0.,   0.,   0.,   0.,   0.,   1.],\n",
       "       [  1.,   0.,   0.,   0.,   0.,   0.,   0.,   0.,   0.,   1.],\n",
       "       [  1.,   0.,   0.,   0.,   0.,   0.,   0.,   0.,   0.,   1.],\n",
       "       [  1.,   0.,   0.,   0.,   0.,   0.,   0.,   0.,   0.,   1.],\n",
       "       [  1.,   0.,   0.,   0.,   0.,   0.,   0.,   0.,   0.,   1.],\n",
       "       [  1.,   0.,   0.,   0.,   0.,   0.,   0.,   0., 100.,   1.],\n",
       "       [  1.,   1.,   1.,   1.,   1.,   1.,   1.,   1.,   1.,   1.]])"
      ]
     },
     "execution_count": 60,
     "metadata": {},
     "output_type": "execute_result"
    }
   ],
   "source": [
    "maze"
   ]
  },
  {
   "cell_type": "code",
   "execution_count": 61,
   "metadata": {},
   "outputs": [
    {
     "data": {
      "text/plain": [
       "1"
      ]
     },
     "execution_count": 61,
     "metadata": {},
     "output_type": "execute_result"
    }
   ],
   "source": [
    "np.where(maze == 10)[0][0]"
   ]
  },
  {
   "cell_type": "code",
   "execution_count": 62,
   "metadata": {},
   "outputs": [],
   "source": [
    "def findEnd(maze, moves):\n",
    "    i, j = np.where(maze == 10)\n",
    "\n",
    "    for move in moves:\n",
    "        if move =='L':\n",
    "            i[0] -= 1\n",
    "        elif move == 'R':\n",
    "            i[0] += 1\n",
    "        elif move == 'U':\n",
    "            j[0] -= 1\n",
    "        elif move == 'D':\n",
    "            j += 1\n",
    "    \n",
    "    if maze[j[0]][i[0]] == 100:\n",
    "        print(\"Found: \" + moves)\n",
    "        return True\n",
    "\n",
    "    return False"
   ]
  },
  {
   "cell_type": "code",
   "execution_count": 63,
   "metadata": {},
   "outputs": [],
   "source": [
    "def valid(maze, moves):\n",
    "    i, j = np.where(maze == 10)\n",
    "    for move in moves:\n",
    "        if move =='L':\n",
    "            i[0] -= 1\n",
    "        elif move == 'R':\n",
    "            i[0] += 1\n",
    "        elif move == 'U':\n",
    "            j[0] -= 1\n",
    "        elif move == 'D':\n",
    "            j += 1\n",
    "\n",
    "        if not(0 <= i[0] < 5 and 0 <= j[0] < 5):\n",
    "            return False\n",
    "        elif (maze[j[0]][i[0]] == 1):\n",
    "            return False\n",
    "\n",
    "    return True\n"
   ]
  },
  {
   "cell_type": "code",
   "execution_count": 68,
   "metadata": {},
   "outputs": [
    {
     "name": "stdout",
     "output_type": "stream",
     "text": [
      "Found: RDDR\n"
     ]
    }
   ],
   "source": [
    "import queue\n",
    "\n",
    "nums = queue.Queue()\n",
    "nums.put(\"\")\n",
    "add = \"\"\n",
    "# maze = createMaze(5, [1,1], [3,3])\n",
    "\n",
    "while not findEnd(maze, add):\n",
    "    add = nums.get()\n",
    "    # print(add)\n",
    "\n",
    "    for j in ['L', 'R', 'U', 'D']:\n",
    "        put = add + j\n",
    "        if valid(maze, put):\n",
    "            nums.put(put)"
   ]
  },
  {
   "cell_type": "code",
   "execution_count": 67,
   "metadata": {},
   "outputs": [
    {
     "data": {
      "text/plain": [
       "array([[  1.,   1.,   1.,   1.,   1.],\n",
       "       [  1.,  10.,   0.,   0.,   1.],\n",
       "       [  1.,   0.,   0.,   1.,   1.],\n",
       "       [  1.,   0.,   0., 100.,   1.],\n",
       "       [  1.,   1.,   1.,   1.,   1.]])"
      ]
     },
     "execution_count": 67,
     "metadata": {},
     "output_type": "execute_result"
    }
   ],
   "source": [
    "maze[2][3] = 1\n",
    "maze"
   ]
  },
  {
   "cell_type": "markdown",
   "metadata": {},
   "source": []
  }
 ],
 "metadata": {
  "kernelspec": {
   "display_name": "Python 3.7.11 ('machine-learning-gpu')",
   "language": "python",
   "name": "python3"
  },
  "language_info": {
   "codemirror_mode": {
    "name": "ipython",
    "version": 3
   },
   "file_extension": ".py",
   "mimetype": "text/x-python",
   "name": "python",
   "nbconvert_exporter": "python",
   "pygments_lexer": "ipython3",
   "version": "3.7.11"
  },
  "orig_nbformat": 4,
  "vscode": {
   "interpreter": {
    "hash": "13c7fdce9ce19c8c87c9c70a5dc4c84c451d2c6947e2a174e3a7ee4d028d5899"
   }
  }
 },
 "nbformat": 4,
 "nbformat_minor": 2
}
