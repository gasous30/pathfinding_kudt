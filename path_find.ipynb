{
 "cells": [
  {
   "cell_type": "code",
   "execution_count": 4,
   "metadata": {},
   "outputs": [],
   "source": [
    "START_POINT = [112.08128471864877, -7.415119677017853]  # Rapah ombo to Puskesmas Perak, approx. 19.5 km\n",
    "END_POINT = [112.14828108657194, -7.576761025272904] \n",
    "\n",
    "CELLTOWER = 'cellTower_Jatim.csv'"
   ]
  },
  {
   "cell_type": "code",
   "execution_count": 5,
   "metadata": {},
   "outputs": [
    {
     "data": {
      "text/html": [
       "<div>\n",
       "<style scoped>\n",
       "    .dataframe tbody tr th:only-of-type {\n",
       "        vertical-align: middle;\n",
       "    }\n",
       "\n",
       "    .dataframe tbody tr th {\n",
       "        vertical-align: top;\n",
       "    }\n",
       "\n",
       "    .dataframe thead th {\n",
       "        text-align: right;\n",
       "    }\n",
       "</style>\n",
       "<table border=\"1\" class=\"dataframe\">\n",
       "  <thead>\n",
       "    <tr style=\"text-align: right;\">\n",
       "      <th></th>\n",
       "      <th>X</th>\n",
       "      <th>Y</th>\n",
       "    </tr>\n",
       "  </thead>\n",
       "  <tbody>\n",
       "    <tr>\n",
       "      <th>0</th>\n",
       "      <td>112.526779</td>\n",
       "      <td>-8.398495</td>\n",
       "    </tr>\n",
       "    <tr>\n",
       "      <th>1</th>\n",
       "      <td>112.539139</td>\n",
       "      <td>-8.402481</td>\n",
       "    </tr>\n",
       "    <tr>\n",
       "      <th>2</th>\n",
       "      <td>112.563583</td>\n",
       "      <td>-8.404404</td>\n",
       "    </tr>\n",
       "    <tr>\n",
       "      <th>3</th>\n",
       "      <td>112.573462</td>\n",
       "      <td>-8.404549</td>\n",
       "    </tr>\n",
       "    <tr>\n",
       "      <th>4</th>\n",
       "      <td>112.576218</td>\n",
       "      <td>-8.409348</td>\n",
       "    </tr>\n",
       "    <tr>\n",
       "      <th>...</th>\n",
       "      <td>...</td>\n",
       "      <td>...</td>\n",
       "    </tr>\n",
       "    <tr>\n",
       "      <th>134054</th>\n",
       "      <td>114.568906</td>\n",
       "      <td>-7.154476</td>\n",
       "    </tr>\n",
       "    <tr>\n",
       "      <th>134055</th>\n",
       "      <td>114.571383</td>\n",
       "      <td>-7.152907</td>\n",
       "    </tr>\n",
       "    <tr>\n",
       "      <th>134056</th>\n",
       "      <td>114.600815</td>\n",
       "      <td>-7.143797</td>\n",
       "    </tr>\n",
       "    <tr>\n",
       "      <th>134057</th>\n",
       "      <td>114.613541</td>\n",
       "      <td>-7.147915</td>\n",
       "    </tr>\n",
       "    <tr>\n",
       "      <th>134058</th>\n",
       "      <td>114.587929</td>\n",
       "      <td>-7.138982</td>\n",
       "    </tr>\n",
       "  </tbody>\n",
       "</table>\n",
       "<p>134059 rows × 2 columns</p>\n",
       "</div>"
      ],
      "text/plain": [
       "                 X         Y\n",
       "0       112.526779 -8.398495\n",
       "1       112.539139 -8.402481\n",
       "2       112.563583 -8.404404\n",
       "3       112.573462 -8.404549\n",
       "4       112.576218 -8.409348\n",
       "...            ...       ...\n",
       "134054  114.568906 -7.154476\n",
       "134055  114.571383 -7.152907\n",
       "134056  114.600815 -7.143797\n",
       "134057  114.613541 -7.147915\n",
       "134058  114.587929 -7.138982\n",
       "\n",
       "[134059 rows x 2 columns]"
      ]
     },
     "execution_count": 5,
     "metadata": {},
     "output_type": "execute_result"
    }
   ],
   "source": [
    "import pandas as pd\n",
    "\n",
    "celltower = pd.read_csv(CELLTOWER)\n",
    "celltower.drop(columns=['Unnamed: 0'], inplace=True)\n",
    "celltower"
   ]
  },
  {
   "cell_type": "code",
   "execution_count": 6,
   "metadata": {},
   "outputs": [],
   "source": [
    "import matplotlib.pyplot as plt\n",
    "%matplotlib qt\n",
    "\n",
    "r = 25000 # in meter\n",
    "\n",
    "ax = celltower.plot.scatter(x='X', y='Y', figsize=(25,25))\n",
    "# ax.add_patch(plt.Circle((START_POINT[0], START_POINT[1]), r/111139, color='red', fill=False))\n",
    "plt.scatter(START_POINT[0], START_POINT[1], color='red')\n",
    "plt.scatter(END_POINT[0], END_POINT[1], color='yellow')\n",
    "\n",
    "plt.xlim(START_POINT[0] - (r+1000)/111139, START_POINT[0] + (r+1000)/111139)\n",
    "plt.ylim(START_POINT[1] - (r+1000)/111139, START_POINT[1] + (r+1000)/111139)\n",
    "# ax.add_patch(plt.Circle((END_POINT[0], END_POINT[1]), r/111139, color='green', fill=False))\n",
    "\n",
    "import matplotlib.ticker as plticker\n",
    "\n",
    "intervals = 200/111139\n",
    "\n",
    "ax.xaxis.set_major_locator(plticker.MultipleLocator(base=intervals))\n",
    "ax.yaxis.set_major_locator(plticker.MultipleLocator(base=intervals))\n",
    "# ax.set_xticklabels([])\n",
    "# ax.set_yticklabels([])\n",
    "\n",
    "plt.grid()"
   ]
  },
  {
   "cell_type": "code",
   "execution_count": 7,
   "metadata": {},
   "outputs": [],
   "source": [
    "import numpy as np\n",
    "\n",
    "hor_d = np.abs(START_POINT[0] - END_POINT[0])*111139\n",
    "ver_d = np.abs(START_POINT[1] - END_POINT[1])*111139\n",
    "\n",
    "grid = np.zeros((np.int8(np.ceil(ver_d/200)), np.int8(np.ceil(hor_d/200))))"
   ]
  },
  {
   "cell_type": "code",
   "execution_count": 8,
   "metadata": {},
   "outputs": [],
   "source": [
    "rows, cols = grid.shape"
   ]
  },
  {
   "cell_type": "code",
   "execution_count": 9,
   "metadata": {},
   "outputs": [
    {
     "data": {
      "text/plain": [
       "112.14966755455696"
      ]
     },
     "execution_count": 9,
     "metadata": {},
     "output_type": "execute_result"
    }
   ],
   "source": [
    "START_POINT[0] + 200*38/111139"
   ]
  },
  {
   "cell_type": "code",
   "execution_count": 10,
   "metadata": {},
   "outputs": [
    {
     "data": {
      "text/plain": [
       "True"
      ]
     },
     "execution_count": 10,
     "metadata": {},
     "output_type": "execute_result"
    }
   ],
   "source": [
    "celltower[(celltower['Y'] < START_POINT[1]) & (celltower['Y'] > START_POINT[1] - 200*1/111139) & (celltower['X'] > START_POINT[0]) & (celltower['X'] < START_POINT[0] + 200*1/111139)].empty"
   ]
  },
  {
   "cell_type": "code",
   "execution_count": 11,
   "metadata": {},
   "outputs": [],
   "source": [
    "for row in range(rows):\n",
    "    for col in range(cols):\n",
    "        if not celltower[(celltower['Y'] < START_POINT[1] - 200*row/111139) & (celltower['Y'] > START_POINT[1] - 200*(row+1)/111139) & (celltower['X'] > START_POINT[0] + 200*col/111139) & (celltower['X'] < START_POINT[0] + 200*(col+1)/111139)].empty:\n",
    "            grid[row][col] = 1"
   ]
  },
  {
   "cell_type": "code",
   "execution_count": 12,
   "metadata": {},
   "outputs": [
    {
     "data": {
      "text/plain": [
       "array([[0., 0., 0., ..., 0., 0., 0.],\n",
       "       [0., 0., 0., ..., 0., 0., 0.],\n",
       "       [0., 0., 0., ..., 0., 0., 0.],\n",
       "       ...,\n",
       "       [0., 0., 0., ..., 0., 0., 0.],\n",
       "       [0., 0., 0., ..., 0., 0., 1.],\n",
       "       [0., 0., 0., ..., 1., 0., 0.]])"
      ]
     },
     "execution_count": 12,
     "metadata": {},
     "output_type": "execute_result"
    }
   ],
   "source": [
    "grid"
   ]
  },
  {
   "cell_type": "code",
   "execution_count": 13,
   "metadata": {},
   "outputs": [
    {
     "data": {
      "image/png": "[encoded data removed]",
      "text/plain": [
       "<Figure size 1440x1440 with 1 Axes>"
      ]
     },
     "metadata": {
      "needs_background": "light"
     },
     "output_type": "display_data"
    }
   ],
   "source": [
    "%matplotlib inline\n",
    "fig, ax = plt.subplots(figsize=(20,20))\n",
    "ax.imshow(grid, cmap=plt.cm.Dark2)\n",
    "ax.scatter(0,0, marker=\"*\", color='yellow', s=200)\n",
    "ax.scatter(cols-1,rows-1, marker=\"*\", color='red', s=200)\n",
    "\n",
    "plt.show()"
   ]
  },
  {
   "cell_type": "code",
   "execution_count": 14,
   "metadata": {},
   "outputs": [],
   "source": [
    "import heapq\n",
    "\n",
    "def heuristic(a,b):\n",
    "    return np.sqrt((b[0] - a[0]) ** 2 + (b[1] - a[1]) ** 2)\n",
    "    \n",
    "def astar(array, start, goal):\n",
    "\n",
    "    neighbors = [(0,1),(0,-1),(1,0),(-1,0),(1,1),(1,-1),(-1,1),(-1,-1)]\n",
    "    close_set = set()\n",
    "    came_from = {}\n",
    "    gscore = {start:0}\n",
    "    fscore = {start:heuristic(start, goal)}\n",
    "    oheap = []\n",
    "    heapq.heappush(oheap, (fscore[start], start))\n",
    " \n",
    "    while oheap:\n",
    "        current = heapq.heappop(oheap)[1]\n",
    "        if current == goal:\n",
    "            data = []\n",
    "            while current in came_from:\n",
    "                data.append(current)\n",
    "                current = came_from[current]\n",
    "            return data\n",
    "\n",
    "        close_set.add(current)\n",
    "\n",
    "        for i, j in neighbors:\n",
    "            neighbor = current[0] + i, current[1] + j            \n",
    "            tentative_g_score = gscore[current] + heuristic(current, neighbor)\n",
    "            if 0 <= neighbor[0] < array.shape[0]:\n",
    "                if 0 <= neighbor[1] < array.shape[1]:                \n",
    "                    if array[neighbor[0]][neighbor[1]] == 1:\n",
    "                        continue\n",
    "\n",
    "                else:\n",
    "                    # array bound y walls\n",
    "                    continue\n",
    "            else:\n",
    "                # array bound x walls\n",
    "                continue\n",
    " \n",
    "            if neighbor in close_set and tentative_g_score >= gscore.get(neighbor, 0):\n",
    "                continue\n",
    " \n",
    "            if  tentative_g_score < gscore.get(neighbor, 0) or neighbor not in [i[1]for i in oheap]:\n",
    "                came_from[neighbor] = current\n",
    "                gscore[neighbor] = tentative_g_score\n",
    "                fscore[neighbor] = tentative_g_score + heuristic(neighbor, goal)\n",
    "                heapq.heappush(oheap, (fscore[neighbor], neighbor)) \n",
    "\n",
    "  "
   ]
  },
  {
   "cell_type": "code",
   "execution_count": 15,
   "metadata": {},
   "outputs": [],
   "source": [
    "route = astar(grid, (0,0), (rows-1, cols-1))\n",
    "route = route[::-1]"
   ]
  },
  {
   "cell_type": "code",
   "execution_count": 16,
   "metadata": {},
   "outputs": [],
   "source": [
    "x_coords = []\n",
    "y_coords = []\n",
    "\n",
    "for i in range(0, len(route)):\n",
    "    x = route[i][0]\n",
    "    y = route[i][1]\n",
    "    x_coords.append(x)\n",
    "    y_coords.append(y)"
   ]
  },
  {
   "cell_type": "code",
   "execution_count": 17,
   "metadata": {},
   "outputs": [
    {
     "data": {
      "image/png": "[encoded data removed]",
      "text/plain": [
       "<Figure size 1440x1440 with 1 Axes>"
      ]
     },
     "metadata": {
      "needs_background": "light"
     },
     "output_type": "display_data"
    }
   ],
   "source": [
    "fig, ax = plt.subplots(figsize=(20,20))\n",
    "ax.imshow(grid, cmap=plt.cm.Dark2)\n",
    "ax.scatter(0, 0, marker=\"*\", color='yellow', s=200)\n",
    "ax.scatter(cols-1,rows-1, marker=\"*\", color='red', s=200)\n",
    "\n",
    "ax.scatter(y_coords, x_coords, color='black')\n",
    "ax.plot(y_coords, x_coords, color='black')\n",
    "\n",
    "plt.show()"
   ]
  },
  {
   "cell_type": "code",
   "execution_count": null,
   "metadata": {},
   "outputs": [],
   "source": []
  }
 ],
 "metadata": {
  "kernelspec": {
   "display_name": "Python 3.7.11 ('machine-learning-gpu')",
   "language": "python",
   "name": "python3"
  },
  "language_info": {
   "codemirror_mode": {
    "name": "ipython",
    "version": 3
   },
   "file_extension": ".py",
   "mimetype": "text/x-python",
   "name": "python",
   "nbconvert_exporter": "python",
   "pygments_lexer": "ipython3",
   "version": "3.7.11"
  },
  "orig_nbformat": 4,
  "vscode": {
   "interpreter": {
    "hash": "13c7fdce9ce19c8c87c9c70a5dc4c84c451d2c6947e2a174e3a7ee4d028d5899"
   }
  }
 },
 "nbformat": 4,
 "nbformat_minor": 2
}
